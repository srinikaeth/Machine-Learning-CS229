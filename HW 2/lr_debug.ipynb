{
 "cells": [
  {
   "cell_type": "code",
   "execution_count": 118,
   "metadata": {
    "collapsed": false
   },
   "outputs": [
    {
     "name": "stdout",
     "output_type": "stream",
     "text": [
      "==== Training model on data set A ====\n",
      "Finished 10000 iterations\n",
      "Finished 20000 iterations\n",
      "Finished 30000 iterations\n",
      "Finished 40000 iterations\n",
      "Finished 50000 iterations\n",
      "Finished 60000 iterations\n",
      "Finished 70000 iterations\n",
      "Finished 80000 iterations\n",
      "Finished 90000 iterations\n",
      "Finished 100000 iterations\n",
      "Finished 110000 iterations\n",
      "Finished 120000 iterations\n",
      "Finished 130000 iterations\n",
      "Finished 140000 iterations\n",
      "Finished 150000 iterations\n",
      "Finished 160000 iterations\n",
      "Finished 170000 iterations\n",
      "Finished 180000 iterations\n",
      "Finished 190000 iterations\n",
      "Finished 200000 iterations\n",
      "Finished 210000 iterations\n",
      "Finished 220000 iterations\n",
      "Finished 230000 iterations\n",
      "Finished 240000 iterations\n",
      "Finished 250000 iterations\n",
      "Finished 260000 iterations\n",
      "Finished 270000 iterations\n",
      "Finished 280000 iterations\n",
      "Finished 290000 iterations\n",
      "Finished 300000 iterations\n",
      "Finished 310000 iterations\n",
      "Finished 320000 iterations\n",
      "Finished 330000 iterations\n",
      "Finished 340000 iterations\n",
      "Finished 350000 iterations\n",
      "Finished 360000 iterations\n",
      "Finished 370000 iterations\n",
      "Finished 380000 iterations\n",
      "Finished 390000 iterations\n",
      "Finished 400000 iterations\n",
      "Finished 410000 iterations\n",
      "Finished 420000 iterations\n",
      "Finished 430000 iterations\n",
      "Finished 440000 iterations\n",
      "Finished 450000 iterations\n",
      "Finished 460000 iterations\n",
      "Finished 470000 iterations\n",
      "Finished 480000 iterations\n",
      "Finished 490000 iterations\n",
      "Finished 500000 iterations\n"
     ]
    },
    {
     "ename": "KeyboardInterrupt",
     "evalue": "",
     "output_type": "error",
     "traceback": [
      "\u001b[0;31m---------------------------------------------------------------------------\u001b[0m",
      "\u001b[0;31mKeyboardInterrupt\u001b[0m                         Traceback (most recent call last)",
      "\u001b[0;32m<ipython-input-118-b24c04d1896b>\u001b[0m in \u001b[0;36m<module>\u001b[0;34m()\u001b[0m\n\u001b[1;32m     65\u001b[0m \u001b[1;33m\u001b[0m\u001b[0m\n\u001b[1;32m     66\u001b[0m \u001b[1;32mif\u001b[0m \u001b[0m__name__\u001b[0m \u001b[1;33m==\u001b[0m \u001b[1;34m'__main__'\u001b[0m\u001b[1;33m:\u001b[0m\u001b[1;33m\u001b[0m\u001b[0m\n\u001b[0;32m---> 67\u001b[0;31m     \u001b[0mmain\u001b[0m\u001b[1;33m(\u001b[0m\u001b[1;33m)\u001b[0m\u001b[1;33m\u001b[0m\u001b[0m\n\u001b[0m",
      "\u001b[0;32m<ipython-input-118-b24c04d1896b>\u001b[0m in \u001b[0;36mmain\u001b[0;34m()\u001b[0m\n\u001b[1;32m     56\u001b[0m     \u001b[1;32mprint\u001b[0m\u001b[1;33m(\u001b[0m\u001b[1;34m'==== Training model on data set A ===='\u001b[0m\u001b[1;33m)\u001b[0m\u001b[1;33m\u001b[0m\u001b[0m\n\u001b[1;32m     57\u001b[0m     \u001b[0mXa\u001b[0m\u001b[1;33m,\u001b[0m \u001b[0mYa\u001b[0m \u001b[1;33m=\u001b[0m \u001b[0mload_data\u001b[0m\u001b[1;33m(\u001b[0m\u001b[1;34m'data_a.txt'\u001b[0m\u001b[1;33m)\u001b[0m\u001b[1;33m\u001b[0m\u001b[0m\n\u001b[0;32m---> 58\u001b[0;31m     \u001b[0mmeg\u001b[0m \u001b[1;33m=\u001b[0m \u001b[0mlogistic_regression\u001b[0m\u001b[1;33m(\u001b[0m\u001b[0mXa\u001b[0m\u001b[1;33m,\u001b[0m \u001b[0mYa\u001b[0m\u001b[1;33m)\u001b[0m\u001b[1;33m\u001b[0m\u001b[0m\n\u001b[0m\u001b[1;32m     59\u001b[0m \u001b[1;33m\u001b[0m\u001b[0m\n\u001b[1;32m     60\u001b[0m \u001b[1;31m#     print('\\n==== Training model on data set B ====')\u001b[0m\u001b[1;33m\u001b[0m\u001b[1;33m\u001b[0m\u001b[0m\n",
      "\u001b[0;32m<ipython-input-118-b24c04d1896b>\u001b[0m in \u001b[0;36mlogistic_regression\u001b[0;34m(X, Y)\u001b[0m\n\u001b[1;32m     41\u001b[0m         \u001b[0mi\u001b[0m \u001b[1;33m+=\u001b[0m \u001b[1;36m1\u001b[0m\u001b[1;33m\u001b[0m\u001b[0m\n\u001b[1;32m     42\u001b[0m         \u001b[0mprev_theta\u001b[0m \u001b[1;33m=\u001b[0m \u001b[0mtheta\u001b[0m\u001b[1;33m\u001b[0m\u001b[0m\n\u001b[0;32m---> 43\u001b[0;31m         \u001b[0mgrad\u001b[0m \u001b[1;33m=\u001b[0m \u001b[0mcalc_grad\u001b[0m\u001b[1;33m(\u001b[0m\u001b[0mX\u001b[0m\u001b[1;33m,\u001b[0m \u001b[0mY\u001b[0m\u001b[1;33m,\u001b[0m \u001b[0mtheta\u001b[0m\u001b[1;33m)\u001b[0m\u001b[1;33m\u001b[0m\u001b[0m\n\u001b[0m\u001b[1;32m     44\u001b[0m         \u001b[0mtheta\u001b[0m \u001b[1;33m=\u001b[0m \u001b[0mtheta\u001b[0m  \u001b[1;33m-\u001b[0m \u001b[0mlearning_rate\u001b[0m \u001b[1;33m*\u001b[0m \u001b[1;33m(\u001b[0m\u001b[0mgrad\u001b[0m\u001b[1;33m)\u001b[0m\u001b[1;33m\u001b[0m\u001b[0m\n\u001b[1;32m     45\u001b[0m \u001b[1;33m\u001b[0m\u001b[0m\n",
      "\u001b[0;32m<ipython-input-118-b24c04d1896b>\u001b[0m in \u001b[0;36mcalc_grad\u001b[0;34m(X, Y, theta)\u001b[0m\n\u001b[1;32m     26\u001b[0m     \u001b[0mmargins\u001b[0m \u001b[1;33m=\u001b[0m \u001b[0mY\u001b[0m \u001b[1;33m*\u001b[0m \u001b[0mX\u001b[0m\u001b[1;33m.\u001b[0m\u001b[0mdot\u001b[0m\u001b[1;33m(\u001b[0m\u001b[0mtheta\u001b[0m\u001b[1;33m)\u001b[0m\u001b[1;33m\u001b[0m\u001b[0m\n\u001b[1;32m     27\u001b[0m     \u001b[0mprobs\u001b[0m \u001b[1;33m=\u001b[0m \u001b[1;36m1.\u001b[0m \u001b[1;33m/\u001b[0m \u001b[1;33m(\u001b[0m\u001b[1;36m1\u001b[0m \u001b[1;33m+\u001b[0m \u001b[0mnp\u001b[0m\u001b[1;33m.\u001b[0m\u001b[0mexp\u001b[0m\u001b[1;33m(\u001b[0m\u001b[0mmargins\u001b[0m\u001b[1;33m)\u001b[0m\u001b[1;33m)\u001b[0m\u001b[1;33m\u001b[0m\u001b[0m\n\u001b[0;32m---> 28\u001b[0;31m     \u001b[0mgrad\u001b[0m \u001b[1;33m=\u001b[0m \u001b[1;33m-\u001b[0m\u001b[1;33m(\u001b[0m\u001b[1;36m1.\u001b[0m\u001b[1;33m/\u001b[0m\u001b[0mm\u001b[0m\u001b[1;33m)\u001b[0m \u001b[1;33m*\u001b[0m \u001b[1;33m(\u001b[0m\u001b[0mX\u001b[0m\u001b[1;33m.\u001b[0m\u001b[0mT\u001b[0m\u001b[1;33m.\u001b[0m\u001b[0mdot\u001b[0m\u001b[1;33m(\u001b[0m\u001b[0mprobs\u001b[0m \u001b[1;33m*\u001b[0m \u001b[0mY\u001b[0m\u001b[1;33m)\u001b[0m\u001b[1;33m)\u001b[0m\u001b[1;33m\u001b[0m\u001b[0m\n\u001b[0m\u001b[1;32m     29\u001b[0m \u001b[1;33m\u001b[0m\u001b[0m\n\u001b[1;32m     30\u001b[0m     \u001b[1;32mreturn\u001b[0m \u001b[0mgrad\u001b[0m\u001b[1;33m\u001b[0m\u001b[0m\n",
      "\u001b[0;31mKeyboardInterrupt\u001b[0m: "
     ]
    }
   ],
   "source": [
    "from __future__ import division\n",
    "import numpy as np\n",
    "\n",
    "try:\n",
    "    xrange\n",
    "except NameError:\n",
    "    xrange = range\n",
    "\n",
    "def add_intercept(X_):\n",
    "    m, n = X_.shape\n",
    "    X = np.zeros((m, n + 1))\n",
    "    X[:, 0] = 1\n",
    "    X[:, 1:] = X_\n",
    "    return X\n",
    "\n",
    "def load_data(filename):\n",
    "    D = np.loadtxt(filename)\n",
    "    Y = D[:, 0]\n",
    "    X = D[:, 1:]\n",
    "    return add_intercept(X), Y\n",
    "\n",
    "def calc_grad(X, Y, theta):\n",
    "    m, n = X.shape\n",
    "    grad = np.zeros(theta.shape)\n",
    "\n",
    "    margins = Y * X.dot(theta)\n",
    "    probs = 1. / (1 + np.exp(margins))\n",
    "    grad = -(1./m) * (X.T.dot(probs * Y))\n",
    "\n",
    "    return grad\n",
    "\n",
    "def logistic_regression(X, Y):\n",
    "    m, n = X.shape\n",
    "    theta = np.zeros(n)\n",
    "    learning_rate = 0.1\n",
    "    \n",
    "    mega_theta = []\n",
    "\n",
    "    i = 0\n",
    "    while True:\n",
    "        i += 1\n",
    "        prev_theta = theta\n",
    "        grad = calc_grad(X, Y, theta)\n",
    "        theta = theta  - learning_rate * (grad)\n",
    "        \n",
    "        mega_theta.append(theta)\n",
    "        \n",
    "        if i % 10000 == 0:\n",
    "            print('Finished %d iterations' % i)\n",
    "        if np.linalg.norm(prev_theta - theta) < 1e-15:\n",
    "            print('Converged in %d iterations' % i)\n",
    "            break\n",
    "    return mega_theta\n",
    "\n",
    "def main():\n",
    "    print('==== Training model on data set A ====')\n",
    "    Xa, Ya = load_data('data_a.txt')\n",
    "    meg = logistic_regression(Xa, Ya)\n",
    "\n",
    "#     print('\\n==== Training model on data set B ====')\n",
    "#     Xb, Yb = load_data('data_b.txt')\n",
    "#     logistic_regression(Xb, Yb)\n",
    "\n",
    "    return\n",
    "\n",
    "if __name__ == '__main__':\n",
    "    main()"
   ]
  },
  {
   "cell_type": "code",
   "execution_count": 30,
   "metadata": {
    "collapsed": false
   },
   "outputs": [
    {
     "name": "stdout",
     "output_type": "stream",
     "text": [
      "==== Training model on data set A ====\n",
      "Finished 10000 iterations\n",
      "Finished 20000 iterations\n",
      "Finished 30000 iterations\n",
      "Converged in 30368 iterations\n"
     ]
    }
   ],
   "source": [
    "print('==== Training model on data set A ====')\n",
    "Xa, Ya = load_data('data_a.txt')\n",
    "meg = logistic_regression(Xa, Ya)"
   ]
  },
  {
   "cell_type": "code",
   "execution_count": 37,
   "metadata": {
    "collapsed": false
   },
   "outputs": [],
   "source": [
    "# plt.plot(meg[:,1])\n",
    "\n",
    "meg = np.array(meg)"
   ]
  },
  {
   "cell_type": "code",
   "execution_count": 41,
   "metadata": {
    "collapsed": false
   },
   "outputs": [
    {
     "data": {
      "image/png": "[encoded data removed]",
      "text/plain": [
       "<matplotlib.figure.Figure at 0x831ff60>"
      ]
     },
     "metadata": {},
     "output_type": "display_data"
    }
   ],
   "source": [
    "plt.plot(meg[:,0], color = 'red')\n",
    "plt.plot(meg[:,1], color = 'blue')\n",
    "plt.plot(meg[:,2], color = 'green')\n",
    "\n",
    "plt.show()"
   ]
  },
  {
   "cell_type": "code",
   "execution_count": null,
   "metadata": {
    "collapsed": false
   },
   "outputs": [],
   "source": [
    "def main():\n",
    "    print('\\n==== Training model on data set B ====')\n",
    "    Xb, Yb = load_data('data_b.txt')\n",
    "    logistic_regression(Xb, Yb)\n",
    "\n",
    "    return\n",
    "\n",
    "if __name__ == '__main__':\n",
    "    main()"
   ]
  },
  {
   "cell_type": "code",
   "execution_count": 136,
   "metadata": {
    "collapsed": false
   },
   "outputs": [
    {
     "name": "stdout",
     "output_type": "stream",
     "text": [
      "==== Training model on data set B ====\n",
      "Finished 10000 iterations\n",
      "[ 0.00019399 -0.00019355 -0.00019461]\n",
      "0.00336103946952\n",
      "Finished 20000 iterations\n",
      "[ 0.00012541 -0.00012529 -0.0001257 ]\n",
      "0.00217320535104\n",
      "Finished 30000 iterations\n",
      "[  9.60445104e-05  -9.60553587e-05  -9.61981110e-05]\n",
      "0.0016644896055\n",
      "Finished 40000 iterations\n",
      "[  7.90651647e-05  -7.91523106e-05  -7.91443884e-05]\n",
      "0.00137040952813\n",
      "Finished 50000 iterations\n",
      "[  6.78328688e-05  -6.79700947e-05  -6.78680755e-05]\n",
      "0.00117589572429\n",
      "Finished 60000 iterations\n",
      "[  5.97905761e-05  -5.99622968e-05  -5.97981756e-05]\n",
      "0.00103663937033\n",
      "Finished 70000 iterations\n",
      "[  5.37193268e-05  -5.39154728e-05  -5.37089335e-05]\n",
      "0.000931519930606\n",
      "Finished 80000 iterations\n",
      "[  4.89573832e-05  -4.91710659e-05  -4.89349658e-05]\n",
      "0.0008490730226\n",
      "Finished 90000 iterations\n",
      "[  4.51121714e-05  -4.53384732e-05  -4.50816023e-05]\n",
      "0.00078249830806\n",
      "Finished 100000 iterations\n",
      "[  4.19351585e-05  -4.21704526e-05  -4.18990387e-05]\n",
      "0.000727491170502\n",
      "Finished 110000 iterations\n",
      "[  3.92609485e-05  -3.95024927e-05  -3.92210742e-05]\n",
      "0.000681187321261\n",
      "Finished 120000 iterations\n",
      "[  3.69750168e-05  -3.72206979e-05  -3.69326555e-05]\n",
      "0.000641603714488\n",
      "Finished 130000 iterations\n",
      "[  3.49954536e-05  -3.52436199e-05  -3.49515156e-05]\n",
      "0.00060732223371\n",
      "Finished 140000 iterations\n",
      "[  3.32620741e-05  -3.35114213e-05  -3.32172218e-05]\n",
      "0.000577301026376\n",
      "Finished 150000 iterations\n",
      "[  3.17296345e-05  -3.19791254e-05  -3.16843546e-05]\n",
      "0.000550756979124\n",
      "Finished 160000 iterations\n",
      "[  3.03634490e-05  -3.06122555e-05  -3.03181014e-05]\n",
      "0.000527089793062\n",
      "Finished 170000 iterations\n",
      "[  2.91364685e-05  -2.93839282e-05  -2.90913200e-05]\n",
      "0.000505831388354\n",
      "Finished 180000 iterations\n",
      "[  2.80272810e-05  -2.82728648e-05  -2.79825294e-05]\n",
      "0.000486611273877\n"
     ]
    },
    {
     "ename": "KeyboardInterrupt",
     "evalue": "",
     "output_type": "error",
     "traceback": [
      "\u001b[0;31m---------------------------------------------------------------------------\u001b[0m",
      "\u001b[0;31mKeyboardInterrupt\u001b[0m                         Traceback (most recent call last)",
      "\u001b[0;32m<ipython-input-136-06c27c7019f3>\u001b[0m in \u001b[0;36m<module>\u001b[0;34m()\u001b[0m\n\u001b[1;32m     28\u001b[0m         \u001b[1;32mprint\u001b[0m \u001b[0mgrad\u001b[0m\u001b[1;33m\u001b[0m\u001b[0m\n\u001b[1;32m     29\u001b[0m         \u001b[1;32mprint\u001b[0m \u001b[0mnp\u001b[0m\u001b[1;33m.\u001b[0m\u001b[0mlinalg\u001b[0m\u001b[1;33m.\u001b[0m\u001b[0mnorm\u001b[0m\u001b[1;33m(\u001b[0m\u001b[0mprev_theta\u001b[0m \u001b[1;33m-\u001b[0m \u001b[0mtheta\u001b[0m\u001b[1;33m)\u001b[0m\u001b[1;33m\u001b[0m\u001b[0m\n\u001b[0;32m---> 30\u001b[0;31m     \u001b[1;32mif\u001b[0m \u001b[0mnp\u001b[0m\u001b[1;33m.\u001b[0m\u001b[0mlinalg\u001b[0m\u001b[1;33m.\u001b[0m\u001b[0mnorm\u001b[0m\u001b[1;33m(\u001b[0m\u001b[0mprev_theta\u001b[0m \u001b[1;33m-\u001b[0m \u001b[0mtheta\u001b[0m\u001b[1;33m)\u001b[0m \u001b[1;33m<\u001b[0m \u001b[1;36m1e-15\u001b[0m\u001b[1;33m:\u001b[0m\u001b[1;33m\u001b[0m\u001b[0m\n\u001b[0m\u001b[1;32m     31\u001b[0m         \u001b[1;32mprint\u001b[0m\u001b[1;33m(\u001b[0m\u001b[1;34m'Converged in %d iterations'\u001b[0m \u001b[1;33m%\u001b[0m \u001b[0mi\u001b[0m\u001b[1;33m)\u001b[0m\u001b[1;33m\u001b[0m\u001b[0m\n\u001b[1;32m     32\u001b[0m         \u001b[1;32mbreak\u001b[0m\u001b[1;33m\u001b[0m\u001b[0m\n",
      "\u001b[0;32mC:\\Users\\user1\\Anaconda2\\lib\\site-packages\\numpy\\linalg\\linalg.pyc\u001b[0m in \u001b[0;36mnorm\u001b[0;34m(x, ord, axis, keepdims)\u001b[0m\n\u001b[1;32m   2127\u001b[0m                 \u001b[0msqnorm\u001b[0m \u001b[1;33m=\u001b[0m \u001b[0mdot\u001b[0m\u001b[1;33m(\u001b[0m\u001b[0mx\u001b[0m\u001b[1;33m.\u001b[0m\u001b[0mreal\u001b[0m\u001b[1;33m,\u001b[0m \u001b[0mx\u001b[0m\u001b[1;33m.\u001b[0m\u001b[0mreal\u001b[0m\u001b[1;33m)\u001b[0m \u001b[1;33m+\u001b[0m \u001b[0mdot\u001b[0m\u001b[1;33m(\u001b[0m\u001b[0mx\u001b[0m\u001b[1;33m.\u001b[0m\u001b[0mimag\u001b[0m\u001b[1;33m,\u001b[0m \u001b[0mx\u001b[0m\u001b[1;33m.\u001b[0m\u001b[0mimag\u001b[0m\u001b[1;33m)\u001b[0m\u001b[1;33m\u001b[0m\u001b[0m\n\u001b[1;32m   2128\u001b[0m             \u001b[1;32melse\u001b[0m\u001b[1;33m:\u001b[0m\u001b[1;33m\u001b[0m\u001b[0m\n\u001b[0;32m-> 2129\u001b[0;31m                 \u001b[0msqnorm\u001b[0m \u001b[1;33m=\u001b[0m \u001b[0mdot\u001b[0m\u001b[1;33m(\u001b[0m\u001b[0mx\u001b[0m\u001b[1;33m,\u001b[0m \u001b[0mx\u001b[0m\u001b[1;33m)\u001b[0m\u001b[1;33m\u001b[0m\u001b[0m\n\u001b[0m\u001b[1;32m   2130\u001b[0m             \u001b[0mret\u001b[0m \u001b[1;33m=\u001b[0m \u001b[0msqrt\u001b[0m\u001b[1;33m(\u001b[0m\u001b[0msqnorm\u001b[0m\u001b[1;33m)\u001b[0m\u001b[1;33m\u001b[0m\u001b[0m\n\u001b[1;32m   2131\u001b[0m             \u001b[1;32mif\u001b[0m \u001b[0mkeepdims\u001b[0m\u001b[1;33m:\u001b[0m\u001b[1;33m\u001b[0m\u001b[0m\n",
      "\u001b[0;31mKeyboardInterrupt\u001b[0m: "
     ]
    }
   ],
   "source": [
    "print('==== Training model on data set B ====')\n",
    "Xb, Yb = load_data('data_b.txt')\n",
    "# meg2 = logistic_regression(Xb, Yb)\n",
    "\n",
    "X = Xb\n",
    "Y = Yb\n",
    "\n",
    "m, n = X.shape\n",
    "theta = np.zeros(n)\n",
    "learning_rate = 10\n",
    "\n",
    "mega_theta2 = []\n",
    "mega_grad2 = []\n",
    "\n",
    "i = 0\n",
    "while True:\n",
    "    i += 1\n",
    "    prev_theta = theta\n",
    "    grad = calc_grad(X, Y, theta)\n",
    "    mega_grad2.append(grad)\n",
    "    \n",
    "    theta = theta  - learning_rate * (grad)\n",
    "\n",
    "    mega_theta2.append(theta)\n",
    "\n",
    "    if i % 10000 == 0:\n",
    "        print('Finished %d iterations' % i)\n",
    "        print grad\n",
    "        print np.linalg.norm(prev_theta - theta)\n",
    "    if np.linalg.norm(prev_theta - theta) < 1e-15:\n",
    "        print('Converged in %d iterations' % i)\n",
    "        break"
   ]
  },
  {
   "cell_type": "code",
   "execution_count": 105,
   "metadata": {
    "collapsed": false
   },
   "outputs": [],
   "source": [
    "mega_grad2 = np.array(mega_grad2)"
   ]
  },
  {
   "cell_type": "code",
   "execution_count": 106,
   "metadata": {
    "collapsed": false
   },
   "outputs": [
    {
     "data": {
      "image/png": "[encoded data removed]",
      "text/plain": [
       "<matplotlib.figure.Figure at 0xa4dfc88>"
      ]
     },
     "metadata": {},
     "output_type": "display_data"
    }
   ],
   "source": [
    "# plt.plot(mega_grad2[:,0], color = 'red')\n",
    "# plt.plot(mega_grad2[:,1], color = 'blue')\n",
    "plt.plot(mega_grad2[:,2], color = 'green')\n",
    "\n",
    "plt.show()"
   ]
  },
  {
   "cell_type": "code",
   "execution_count": 103,
   "metadata": {
    "collapsed": false
   },
   "outputs": [
    {
     "data": {
      "text/plain": [
       "array([[ 0.00012541, -0.00012529, -0.0001257 ],\n",
       "       [ 0.0001254 , -0.00012529, -0.0001257 ],\n",
       "       [ 0.0001254 , -0.00012528, -0.00012569],\n",
       "       ..., \n",
       "       [ 0.00012152, -0.00012142, -0.00012179],\n",
       "       [ 0.00012151, -0.00012141, -0.00012179],\n",
       "       [ 0.00012151, -0.00012141, -0.00012178]])"
      ]
     },
     "execution_count": 103,
     "metadata": {},
     "output_type": "execute_result"
    }
   ],
   "source": [
    "mega_grad2[20000:21000]"
   ]
  },
  {
   "cell_type": "code",
   "execution_count": 98,
   "metadata": {
    "collapsed": false
   },
   "outputs": [
    {
     "data": {
      "image/png": "[encoded data removed]",
      "text/plain": [
       "<matplotlib.figure.Figure at 0x7710eb8>"
      ]
     },
     "metadata": {},
     "output_type": "display_data"
    }
   ],
   "source": [
    "mega_theta2 = np.array(mega_theta2)\n",
    "\n",
    "plt.plot(mega_theta2[:,0], color = 'red')\n",
    "plt.plot(mega_theta2[:,1], color = 'blue')\n",
    "plt.plot(mega_theta2[:,2], color = 'green')\n",
    "\n",
    "plt.show()"
   ]
  },
  {
   "cell_type": "code",
   "execution_count": 127,
   "metadata": {
    "collapsed": false
   },
   "outputs": [
    {
     "name": "stdout",
     "output_type": "stream",
     "text": [
      "==== Training model on data set A ====\n",
      "Finished 10000 iterations\n",
      "Finished 20000 iterations\n",
      "Finished 30000 iterations\n",
      "Converged in 30368 iterations\n"
     ]
    }
   ],
   "source": [
    "print('==== Training model on data set A ====')\n",
    "Xa, Ya = load_data('data_a.txt')\n",
    "# meg2 = logistic_regression(Xb, Yb)\n",
    "\n",
    "X = Xa\n",
    "Y = Ya\n",
    "\n",
    "m, n = X.shape\n",
    "theta = np.zeros(n)\n",
    "learning_rate = 10\n",
    "\n",
    "mega_theta = []\n",
    "mega_grad = []\n",
    "\n",
    "i = 0\n",
    "while True:\n",
    "    i += 1\n",
    "    prev_theta = theta\n",
    "    grad = calc_grad(X, Y, theta)\n",
    "    mega_grad.append(grad)\n",
    "    \n",
    "    theta = theta  - learning_rate * (grad)\n",
    "\n",
    "    mega_theta.append(theta)\n",
    "\n",
    "    if i % 10000 == 0:\n",
    "        print('Finished %d iterations' % i)\n",
    "    if np.linalg.norm(prev_theta - theta) < 1e-15:\n",
    "        print('Converged in %d iterations' % i)\n",
    "        break"
   ]
  },
  {
   "cell_type": "code",
   "execution_count": 128,
   "metadata": {
    "collapsed": false
   },
   "outputs": [
    {
     "data": {
      "text/plain": [
       "array([-20.81437788,  21.45295159,  19.85198176])"
      ]
     },
     "execution_count": 128,
     "metadata": {},
     "output_type": "execute_result"
    }
   ],
   "source": [
    "theta"
   ]
  },
  {
   "cell_type": "code",
   "execution_count": 113,
   "metadata": {
    "collapsed": false
   },
   "outputs": [
    {
     "name": "stdout",
     "output_type": "stream",
     "text": [
      "[[  4.86039160e-06  -5.00892773e-06  -4.78189925e-06]\n",
      " [  4.85573827e-06  -5.00413196e-06  -4.77732114e-06]\n",
      " [  4.85108942e-06  -4.99934082e-06  -4.77274744e-06]\n",
      " ..., \n",
      " [  1.87464257e-06  -1.93187771e-06  -1.84438617e-06]\n",
      " [  1.87285520e-06  -1.93003574e-06  -1.84262767e-06]\n",
      " [  1.87106955e-06  -1.92819553e-06  -1.84087085e-06]]\n"
     ]
    }
   ],
   "source": [
    "mega_grad = np.array(mega_grad)\n",
    "\n",
    "print mega_grad [5000:6000]"
   ]
  },
  {
   "cell_type": "code",
   "execution_count": 94,
   "metadata": {
    "collapsed": false
   },
   "outputs": [
    {
     "data": {
      "image/png": "[encoded data removed]",
      "text/plain": [
       "<matplotlib.figure.Figure at 0xbf26a20>"
      ]
     },
     "metadata": {},
     "output_type": "display_data"
    }
   ],
   "source": [
    "plt.plot(mega_grad[:,0], color = 'red')\n",
    "plt.plot(mega_grad[:,1], color = 'blue')\n",
    "plt.plot(mega_grad[:,2], color = 'green')\n",
    "\n",
    "plt.show()"
   ]
  },
  {
   "cell_type": "code",
   "execution_count": 138,
   "metadata": {
    "collapsed": false
   },
   "outputs": [
    {
     "data": {
      "text/plain": [
       "array([-150.52467498,  151.01799151,  150.51719877])"
      ]
     },
     "execution_count": 138,
     "metadata": {},
     "output_type": "execute_result"
    }
   ],
   "source": [
    "theta"
   ]
  },
  {
   "cell_type": "code",
   "execution_count": 134,
   "metadata": {
    "collapsed": false
   },
   "outputs": [
    {
     "data": {
      "image/png": "[encoded data removed]",
      "text/plain": [
       "<matplotlib.figure.Figure at 0x25fa09b0>"
      ]
     },
     "metadata": {},
     "output_type": "display_data"
    }
   ],
   "source": [
    "plt.figure()   \n",
    "\n",
    "colors = ['r' if i==1 else 'b' for i in Ya]\n",
    "scat1 = plt.scatter(Xa[:,1], Xa[:,2], color=colors)\n",
    "\n",
    "red_patch = mpatches.Patch(color='red', label='Y = 1')\n",
    "blue_patch = mpatches.Patch(color='blue', label='Y = -1')\n",
    "\n",
    "plt.legend(handles=[red_patch, blue_patch])\n",
    "\n",
    "x = np.linspace(0,1,num=10)\n",
    "\n",
    "y = -(theta[0] + theta[1]*x)/theta[2]\n",
    "\n",
    "plt.plot(x,y, label ='Logistic Regression')\n",
    "\n",
    "plt.legend()\n",
    "\n",
    "plt.xlabel('X 1')\n",
    "plt.ylabel('X 2')\n",
    "\n",
    "plt.show()"
   ]
  },
  {
   "cell_type": "code",
   "execution_count": 141,
   "metadata": {
    "collapsed": false
   },
   "outputs": [
    {
     "data": {
      "image/png": "[encoded data removed]",
      "text/plain": [
       "<matplotlib.figure.Figure at 0xaec1dd8>"
      ]
     },
     "metadata": {},
     "output_type": "display_data"
    }
   ],
   "source": [
    "plt.figure()   \n",
    "\n",
    "colors = ['r' if i==1 else 'b' for i in Yb]\n",
    "scat1 = plt.scatter(Xb[:,1], Xb[:,2], color=colors)\n",
    "\n",
    "red_patch = mpatches.Patch(color='red', label='Y = 1')\n",
    "blue_patch = mpatches.Patch(color='blue', label='Y = -1')\n",
    "\n",
    "plt.legend(handles=[red_patch, blue_patch])\n",
    "\n",
    "x = np.linspace(0,1,num=10)\n",
    "\n",
    "y = -(theta[0] + theta[1]*x)/theta[2]\n",
    "\n",
    "plt.plot(x,y, label ='Logistic Regression')\n",
    "\n",
    "plt.legend()\n",
    "\n",
    "plt.xlabel('X 1')\n",
    "plt.ylabel('X 2')\n",
    "\n",
    "plt.show()"
   ]
  }
 ],
 "metadata": {
  "kernelspec": {
   "display_name": "Python 2",
   "language": "python",
   "name": "python2"
  },
  "language_info": {
   "codemirror_mode": {
    "name": "ipython",
    "version": 2
   },
   "file_extension": ".py",
   "mimetype": "text/x-python",
   "name": "python",
   "nbconvert_exporter": "python",
   "pygments_lexer": "ipython2",
   "version": "2.7.13"
  }
 },
 "nbformat": 4,
 "nbformat_minor": 2
}
